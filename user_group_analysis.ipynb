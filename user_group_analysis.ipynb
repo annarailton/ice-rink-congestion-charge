{
 "cells": [
  {
   "cell_type": "markdown",
   "id": "7bca77db-2ee2-4b62-a737-1b2f7f51d86e",
   "metadata": {
    "tags": []
   },
   "source": [
    "# Ice rink user group analysis"
   ]
  },
  {
   "cell_type": "code",
   "execution_count": 1,
   "id": "bc5fa7cb-a5d7-488e-8a5a-275a9634aa89",
   "metadata": {},
   "outputs": [],
   "source": [
    "import matplotlib.pyplot as plt\n",
    "import numpy as np\n",
    "import pandas as pd\n",
    "import re\n",
    "from collections import Counter"
   ]
  },
  {
   "cell_type": "code",
   "execution_count": 2,
   "id": "88d8da12-3c1f-486a-bc5c-f935022f6d69",
   "metadata": {},
   "outputs": [],
   "source": [
    "data = \"data/2025-07-25.csv\""
   ]
  },
  {
   "cell_type": "markdown",
   "id": "7b6f0a1b-a42c-4a8d-9f0e-795ddcb38ad7",
   "metadata": {},
   "source": [
    "## Clean up column names so don't have to deal with spaces"
   ]
  },
  {
   "cell_type": "code",
   "execution_count": 3,
   "id": "cf34a3e4-6880-4ffd-98b3-e30a9b818445",
   "metadata": {},
   "outputs": [],
   "source": [
    "df = pd.read_csv(data)"
   ]
  },
  {
   "cell_type": "code",
   "execution_count": 4,
   "id": "dc8f077f",
   "metadata": {},
   "outputs": [
    {
     "data": {
      "text/html": [
       "<div>\n",
       "<style scoped>\n",
       "    .dataframe tbody tr th:only-of-type {\n",
       "        vertical-align: middle;\n",
       "    }\n",
       "\n",
       "    .dataframe tbody tr th {\n",
       "        vertical-align: top;\n",
       "    }\n",
       "\n",
       "    .dataframe thead th {\n",
       "        text-align: right;\n",
       "    }\n",
       "</style>\n",
       "<table border=\"1\" class=\"dataframe\">\n",
       "  <thead>\n",
       "    <tr style=\"text-align: right;\">\n",
       "      <th></th>\n",
       "      <th>timestamp</th>\n",
       "      <th>club</th>\n",
       "      <th>activity</th>\n",
       "      <th>use_type</th>\n",
       "      <th>frequency</th>\n",
       "      <th>postcode</th>\n",
       "      <th>age_group</th>\n",
       "      <th>special_needs</th>\n",
       "      <th>travel_mode</th>\n",
       "      <th>car_parking_cost</th>\n",
       "      <th>congestion_charge_impact</th>\n",
       "      <th>alternative_travel_options</th>\n",
       "      <th>congestion_charge_comments</th>\n",
       "      <th>congestion_charge_stop_club_activity</th>\n",
       "      <th>email</th>\n",
       "    </tr>\n",
       "  </thead>\n",
       "  <tbody>\n",
       "    <tr>\n",
       "      <th>0</th>\n",
       "      <td>25/06/2025 08:48:33</td>\n",
       "      <td>Oxford Rising Stars (Ice Hockey)</td>\n",
       "      <td>Ice Hockey, Public Skating Sessions</td>\n",
       "      <td>Both</td>\n",
       "      <td>Once a week</td>\n",
       "      <td>OX14</td>\n",
       "      <td>45-54</td>\n",
       "      <td>No</td>\n",
       "      <td>Car (as driver)</td>\n",
       "      <td>£1 - £5</td>\n",
       "      <td>Significant negative impact (e.g., would stop ...</td>\n",
       "      <td>Yes</td>\n",
       "      <td>NaN</td>\n",
       "      <td>Yes</td>\n",
       "      <td>NaN</td>\n",
       "    </tr>\n",
       "    <tr>\n",
       "      <th>1</th>\n",
       "      <td>25/06/2025 09:32:54</td>\n",
       "      <td>Oxford Rising Stars (Ice Hockey)</td>\n",
       "      <td>Ice Hockey</td>\n",
       "      <td>Club/Organised Activity (e.g., team practice, ...</td>\n",
       "      <td>2-3 times a week</td>\n",
       "      <td>OX14</td>\n",
       "      <td>45-54</td>\n",
       "      <td>No</td>\n",
       "      <td>Car (as driver)</td>\n",
       "      <td>£6 - £10</td>\n",
       "      <td>Significant negative impact (e.g., would stop ...</td>\n",
       "      <td>Yes</td>\n",
       "      <td>I am aware of alternative routes into the ice ...</td>\n",
       "      <td>Yes</td>\n",
       "      <td>NaN</td>\n",
       "    </tr>\n",
       "    <tr>\n",
       "      <th>2</th>\n",
       "      <td>02/07/2025 09:06:11</td>\n",
       "      <td>Oxford Junior Stars (Ice Hockey), Oxford Midni...</td>\n",
       "      <td>Ice Hockey, Public Skating Sessions</td>\n",
       "      <td>Both</td>\n",
       "      <td>2-3 times a week</td>\n",
       "      <td>OX18</td>\n",
       "      <td>Under 16</td>\n",
       "      <td>No</td>\n",
       "      <td>Car (as passenger)</td>\n",
       "      <td>£0 (e.g., drop-off/pick-up only, free parking)</td>\n",
       "      <td>Significant negative impact (e.g., would stop ...</td>\n",
       "      <td>Yes</td>\n",
       "      <td>Cannot use public transport due to big hockey ...</td>\n",
       "      <td>Yes</td>\n",
       "      <td>NaN</td>\n",
       "    </tr>\n",
       "    <tr>\n",
       "      <th>3</th>\n",
       "      <td>02/07/2025 09:07:41</td>\n",
       "      <td>Oxford Junior Stars (Ice Hockey)</td>\n",
       "      <td>Ice Hockey</td>\n",
       "      <td>Club/Organised Activity (e.g., team practice, ...</td>\n",
       "      <td>2-3 times a week</td>\n",
       "      <td>OX16</td>\n",
       "      <td>Under 16</td>\n",
       "      <td>No</td>\n",
       "      <td>Car (as passenger)</td>\n",
       "      <td>£1 - £5</td>\n",
       "      <td>Significant negative impact (e.g., would stop ...</td>\n",
       "      <td>Yes</td>\n",
       "      <td>ice hockey bags are huge and not practical to ...</td>\n",
       "      <td>Yes</td>\n",
       "      <td>NaN</td>\n",
       "    </tr>\n",
       "    <tr>\n",
       "      <th>4</th>\n",
       "      <td>02/07/2025 09:08:03</td>\n",
       "      <td>Oxford Junior Stars (Ice Hockey), Oxford 84's,...</td>\n",
       "      <td>Ice Hockey</td>\n",
       "      <td>Both</td>\n",
       "      <td>2-3 times a week</td>\n",
       "      <td>OX33</td>\n",
       "      <td>Under 16</td>\n",
       "      <td>No</td>\n",
       "      <td>Car (as driver)</td>\n",
       "      <td>£6 - £10</td>\n",
       "      <td>Significant negative impact (e.g., would stop ...</td>\n",
       "      <td>Yes</td>\n",
       "      <td>We can't use the bus, we are a family of 5 wit...</td>\n",
       "      <td>Yes</td>\n",
       "      <td>Yes</td>\n",
       "    </tr>\n",
       "  </tbody>\n",
       "</table>\n",
       "</div>"
      ],
      "text/plain": [
       "             timestamp                                               club  \\\n",
       "0  25/06/2025 08:48:33                   Oxford Rising Stars (Ice Hockey)   \n",
       "1  25/06/2025 09:32:54                   Oxford Rising Stars (Ice Hockey)   \n",
       "2  02/07/2025 09:06:11  Oxford Junior Stars (Ice Hockey), Oxford Midni...   \n",
       "3  02/07/2025 09:07:41                   Oxford Junior Stars (Ice Hockey)   \n",
       "4  02/07/2025 09:08:03  Oxford Junior Stars (Ice Hockey), Oxford 84's,...   \n",
       "\n",
       "                              activity  \\\n",
       "0  Ice Hockey, Public Skating Sessions   \n",
       "1                           Ice Hockey   \n",
       "2  Ice Hockey, Public Skating Sessions   \n",
       "3                           Ice Hockey   \n",
       "4                           Ice Hockey   \n",
       "\n",
       "                                            use_type         frequency  \\\n",
       "0                                               Both       Once a week   \n",
       "1  Club/Organised Activity (e.g., team practice, ...  2-3 times a week   \n",
       "2                                               Both  2-3 times a week   \n",
       "3  Club/Organised Activity (e.g., team practice, ...  2-3 times a week   \n",
       "4                                               Both  2-3 times a week   \n",
       "\n",
       "  postcode age_group special_needs         travel_mode  \\\n",
       "0     OX14     45-54            No     Car (as driver)   \n",
       "1     OX14     45-54            No     Car (as driver)   \n",
       "2     OX18  Under 16            No  Car (as passenger)   \n",
       "3     OX16  Under 16            No  Car (as passenger)   \n",
       "4     OX33  Under 16            No     Car (as driver)   \n",
       "\n",
       "                                 car_parking_cost  \\\n",
       "0                                         £1 - £5   \n",
       "1                                        £6 - £10   \n",
       "2  £0 (e.g., drop-off/pick-up only, free parking)   \n",
       "3                                         £1 - £5   \n",
       "4                                        £6 - £10   \n",
       "\n",
       "                            congestion_charge_impact  \\\n",
       "0  Significant negative impact (e.g., would stop ...   \n",
       "1  Significant negative impact (e.g., would stop ...   \n",
       "2  Significant negative impact (e.g., would stop ...   \n",
       "3  Significant negative impact (e.g., would stop ...   \n",
       "4  Significant negative impact (e.g., would stop ...   \n",
       "\n",
       "  alternative_travel_options  \\\n",
       "0                        Yes   \n",
       "1                        Yes   \n",
       "2                        Yes   \n",
       "3                        Yes   \n",
       "4                        Yes   \n",
       "\n",
       "                          congestion_charge_comments  \\\n",
       "0                                                NaN   \n",
       "1  I am aware of alternative routes into the ice ...   \n",
       "2  Cannot use public transport due to big hockey ...   \n",
       "3  ice hockey bags are huge and not practical to ...   \n",
       "4  We can't use the bus, we are a family of 5 wit...   \n",
       "\n",
       "  congestion_charge_stop_club_activity email  \n",
       "0                                  Yes   NaN  \n",
       "1                                  Yes   NaN  \n",
       "2                                  Yes   NaN  \n",
       "3                                  Yes   NaN  \n",
       "4                                  Yes   Yes  "
      ]
     },
     "execution_count": 4,
     "metadata": {},
     "output_type": "execute_result"
    }
   ],
   "source": [
    "df.rename(\n",
    "    columns={\n",
    "        \"Timestamp\": \"timestamp\",\n",
    "        \"Which club(s) are you a member of at the Oxford Ice Rink? \": \"club\",\n",
    "        \"Which sports/activities do you primarily participate in at the rink?  \": \"activity\",\n",
    "        \"Do you use the Oxford Ice Rink for leisure or for a club/organised activity?  \": \"use_type\",\n",
    "        \"How frequently do you use the Oxford Ice Rink?  \": \"frequency\",\n",
    "        \"What is the first half of your postcode (e.g., OX1, OX2, OX3)? (This helps us understand geographical impact without identifying you. If you don't know, please provide the nearest major postcode.)  \": \"postcode\",\n",
    "        \"What is your age group?  \": \"age_group\",\n",
    "        \"Do you have any special needs or requirements that affect your travel to the rink (e.g., Blue Badge holder, mobility issues)?\": \"special_needs\",\n",
    "        \"How do you currently travel to the Oxford Ice Rink?\": \"travel_mode\",\n",
    "        \"If you currently travel by car, approximately how much do you typically spend on car parking per visit to the Oxford Ice Rink area?  \": \"car_parking_cost\",\n",
    "        \"The proposed congestion charge is £5 per journey into and out of the city. How would this additional £5 charge impact your ability or willingness to travel to the Oxford Ice Rink by car?  \": \"congestion_charge_impact\",\n",
    "        \"Are you aware of any alternative means or options for travel to the Oxford Ice Rink that you could use if a congestion charge were implemented (e.g., park and ride, bus routes, cycling routes)?  \": \"alternative_travel_options\",\n",
    "        \"Please provide any additional comments or concerns you have regarding the proposed congestion charge and its potential impact on your use of the Oxford Ice Rink.  \": \"congestion_charge_comments\",\n",
    "        \"Do you consider than the daily congestion charge might stop you from partaking in your club activity? Y or N or n/a\": \"congestion_charge_stop_club_activity\",\n",
    "        \"Would you like us to keep in touch with you to update you of the progress of this survey? If so and you are over the age of 18, please leave your email address here: \": \"email\",\n",
    "    },\n",
    "    inplace=True,\n",
    ")\n",
    "df.head()"
   ]
  },
  {
   "cell_type": "markdown",
   "id": "b50baca2",
   "metadata": {},
   "source": [
    "## Get info on club membership"
   ]
  },
  {
   "cell_type": "code",
   "execution_count": 5,
   "id": "5f5b91ed",
   "metadata": {},
   "outputs": [],
   "source": [
    "def split_multilabel(text):\n",
    "    \"\"\"Split text with mutliple labels on common separators and clean up\"\"\"\n",
    "    if pd.isna(text):\n",
    "        return []\n",
    "    \n",
    "    # Split on common separators: comma, semicolon, 'and', plus sign\n",
    "    labels = re.split(r'[,;+]|\\band\\b', str(text))\n",
    "    \n",
    "    # Clean up each club name\n",
    "    cleaned_labels = []\n",
    "    for club in labels:\n",
    "        club = club.strip()\n",
    "        if club and club.lower() not in ['', 'n/a', 'none']:\n",
    "            cleaned_labels.append(club)\n",
    "    \n",
    "    return cleaned_labels"
   ]
  },
  {
   "cell_type": "code",
   "execution_count": 16,
   "id": "89b7508c",
   "metadata": {},
   "outputs": [
    {
     "name": "stdout",
     "output_type": "stream",
     "text": [
      "                                 Club  Frequency       Club Type  Percentage\n",
      "0                 Oxford Junior Stars         72      Ice Hockey        24.1\n",
      "1                     Fans/Spectators         39            None        13.0\n",
      "2                         Figure Club         33  Figure Skating        11.0\n",
      "3                               Other         32            None        10.7\n",
      "4                 Oxford Rising Stars         29      Ice Hockey         9.7\n",
      "5                               OXIST         24            None         8.0\n",
      "6      I am not a member of any club.         24            None         8.0\n",
      "7                   Junior Dance Club         11           Dance         3.7\n",
      "8               Oxford Midnight Stars         10      Ice Hockey         3.3\n",
      "9                      RAF Blue Wings          9      Ice Hockey         3.0\n",
      "10                        Oxford 84's          5      Ice Hockey         1.7\n",
      "11                  Oxford City Stars          5      Ice Hockey         1.7\n",
      "12              Oxford Shooting Stars          5      Ice Hockey         1.7\n",
      "13  Oxford University Ice Hockey Club          1      Ice Hockey         0.3\n"
     ]
    }
   ],
   "source": [
    "# Split out individual clubs and count frequencies\n",
    "\n",
    "club_type = {\n",
    "\"Oxford Junior Stars\": \"Ice Hockey\",\n",
    "\"Fans/Spectators\": \"None\",\n",
    "\"Figure Club\": \"Figure Skating\",\n",
    "\"Other\": \"None\",\n",
    "\"Oxford Rising Stars\": \"Ice Hockey\",\n",
    "\"OXIST (Oxford Ice Skating Club)\": \"Figure Skating\",\n",
    "\"I am not a member of any club.\": \"None\",\n",
    "\"Junior Dance Club\": \"Dance\",\n",
    "\"Oxford Midnight Stars\": \"Ice Hockey\",\n",
    "\"RAF Blue Wings\": \"Ice Hockey\",\n",
    "\"Oxford 84's\": \"Ice Hockey\",\n",
    "\"Oxford City Stars\": \"Ice Hockey\",\n",
    "\"Oxford Shooting Stars\": \"Ice Hockey\",\n",
    "\"Oxford University Ice Hockey Club\": \"Ice Hockey\"\n",
    "}\n",
    "\n",
    "def clean_club_name(club_name):\n",
    "    \"\"\"Remove the part in parentheses from the club name.\n",
    "    >>> clean_club_name(\"Oxford Junior Stars (Ice Hockey)\")\n",
    "    'Oxford Junior Stars'\n",
    "    \"\"\"\n",
    "    # Remove the part in parentheses and strip whitespace\n",
    "    cleaned_name = re.sub(r'\\s*\\(.*?\\)', '', club_name).strip()\n",
    "    return cleaned_name\n",
    "\n",
    "# Create a list of all individual club memberships\n",
    "all_clubs = []\n",
    "for club_text in df['club']:\n",
    "    individual_clubs = split_multilabel(club_text)\n",
    "    all_clubs.extend(individual_clubs)\n",
    "all_clubs = [clean_club_name(club) for club in all_clubs]\n",
    "\n",
    "individual_club_counts = Counter(all_clubs)\n",
    "\n",
    "# Create a dataframe for easier analysis\n",
    "club_freq_df = pd.DataFrame(list(individual_club_counts.items()), \n",
    "                           columns=['Club', 'Frequency']).sort_values('Frequency', ascending=False)\n",
    "club_freq_df['Club Type'] = club_freq_df['Club'].map(club_type).fillna(\"None\")            \n",
    "club_freq_df['Percentage'] = round(100 * (club_freq_df['Frequency'] / sum(club_freq_df['Frequency'])), 1)\n",
    "\n",
    "club_freq_df.reset_index(drop=True, inplace=True)\n",
    "print(club_freq_df)"
   ]
  },
  {
   "cell_type": "code",
   "execution_count": 17,
   "id": "8f43cc42",
   "metadata": {},
   "outputs": [
    {
     "name": "stdout",
     "output_type": "stream",
     "text": [
      "        Club Type  Frequency  Percentage\n",
      "0           Dance         11         3.7\n",
      "1  Figure Skating         33        11.0\n",
      "2      Ice Hockey        136        45.5\n",
      "3            None        119        39.8\n"
     ]
    }
   ],
   "source": [
    "# Get frequency by club type\n",
    "club_type_counts = club_freq_df.groupby('Club Type')['Frequency'].sum().reset_index()\n",
    "club_type_counts['Percentage'] = round((club_type_counts['Frequency'] / sum(club_freq_df['Frequency'])) * 100, 1)\n",
    "\n",
    "print(club_type_counts)"
   ]
  },
  {
   "cell_type": "markdown",
   "id": "1f68c6c3",
   "metadata": {},
   "source": [
    "## Get info on activities"
   ]
  },
  {
   "cell_type": "code",
   "execution_count": 29,
   "id": "9296fc69",
   "metadata": {},
   "outputs": [
    {
     "name": "stdout",
     "output_type": "stream",
     "text": [
      "                        Use Type  Frequency\n",
      "0                           Both        115\n",
      "1  Club/Organised Activity (e.g.         67\n",
      "2                  team practice         67\n",
      "3           competitive lessons)         67\n",
      "4                  Leisure (e.g.         24\n",
      "5                 public skating         24\n",
      "6          recreational lessons)         24\n"
     ]
    }
   ],
   "source": [
    "# Create a list of all use_types\n",
    "all_use_types = []\n",
    "for text in df['use_type']:\n",
    "    individual_activities = split_multilabel(text)\n",
    "    all_use_types.extend(individual_activities)\n",
    "\n",
    "\n",
    "individual_use_type_counts = Counter(all_use_types)\n",
    "use_type_freq_df = pd.DataFrame(list(individual_use_type_counts.items()), \n",
    "                           columns=['Use Type', 'Frequency']).sort_values('Frequency', ascending=False)\n",
    "use_type_freq_df.reset_index(drop=True, inplace=True)\n",
    "print(use_type_freq_df)"
   ]
  },
  {
   "cell_type": "markdown",
   "id": "98860a5e",
   "metadata": {},
   "source": [
    "## Get info on use type (club vs public)"
   ]
  },
  {
   "cell_type": "code",
   "execution_count": null,
   "id": "56cdd23f",
   "metadata": {},
   "outputs": [
    {
     "data": {
      "text/plain": [
       "use_type\n",
       "Both                                                                  115\n",
       "Club/Organised Activity (e.g., team practice, competitive lessons)     67\n",
       "Leisure (e.g., public skating, recreational lessons)                   24\n",
       "Name: count, dtype: int64"
      ]
     },
     "execution_count": 33,
     "metadata": {},
     "output_type": "execute_result"
    }
   ],
   "source": [
    "# This is not multilabel \n",
    "df['use_type'].value_counts()"
   ]
  },
  {
   "cell_type": "markdown",
   "id": "2d6b2246",
   "metadata": {},
   "source": [
    "## Get info on frequency"
   ]
  },
  {
   "cell_type": "code",
   "execution_count": 34,
   "id": "7d7f949c",
   "metadata": {},
   "outputs": [
    {
     "data": {
      "text/plain": [
       "frequency\n",
       "2-3 times a week          109\n",
       "4-6 times a week           40\n",
       "Once a week                36\n",
       "Daily                       9\n",
       "Less than once a month      8\n",
       "2-3 times a month           4\n",
       "Once a month                1\n",
       "Name: count, dtype: int64"
      ]
     },
     "execution_count": 34,
     "metadata": {},
     "output_type": "execute_result"
    }
   ],
   "source": [
    "# this isn't multilabel either\n",
    "df['frequency'].value_counts()"
   ]
  },
  {
   "cell_type": "code",
   "execution_count": 52,
   "id": "b32ee915",
   "metadata": {},
   "outputs": [],
   "source": [
    "def survey(results, category_names):\n",
    "    \"\"\"\n",
    "    Parameters\n",
    "    ----------\n",
    "    results : dict\n",
    "        A mapping from question labels to a list of answers per category.\n",
    "        It is assumed all lists contain the same number of entries and that\n",
    "        it matches the length of *category_names*.\n",
    "    category_names : list of str\n",
    "        The category labels.\n",
    "    \"\"\"\n",
    "    labels = list(results.keys())\n",
    "    data = np.array(list(results.values()))\n",
    "    data_cum = data.cumsum(axis=1)\n",
    "    category_colors = plt.get_cmap()(np.linspace(0.15, 0.85, data.shape[1]))\n",
    "\n",
    "    fig, ax = plt.subplots(figsize=(9.2, 5))\n",
    "    ax.invert_yaxis()\n",
    "    ax.xaxis.set_visible(False)\n",
    "    ax.set_xlim(0, np.sum(data, axis=1).max())\n",
    "\n",
    "    for i, (colname, color) in enumerate(zip(category_names, category_colors)):\n",
    "        widths = data[:, i]\n",
    "        starts = data_cum[:, i] - widths\n",
    "        rects = ax.barh(\n",
    "            labels, widths, left=starts, height=0.5, label=colname, color=color\n",
    "        )\n",
    "\n",
    "        r, g, b, _ = color\n",
    "        text_color = \"white\" if r * g * b < 0.5 else \"darkgrey\"\n",
    "        ax.bar_label(rects, label_type=\"center\", color=text_color, fmt=\"%.0f%%\")\n",
    "    # ax.legend(ncol=len(category_names), bbox_to_anchor=(0, 1), loc=\"lower left\", fontsize=\"small\")\n",
    "    ax.legend(\n",
    "        ncol=len(category_names),\n",
    "        bbox_to_anchor=(0, -0.1),\n",
    "        loc=\"lower left\",\n",
    "        fontsize=\"small\",\n",
    "    )\n",
    "\n",
    "    return fig, ax"
   ]
  },
  {
   "cell_type": "code",
   "execution_count": null,
   "id": "fb4b1231",
   "metadata": {},
   "outputs": [],
   "source": []
  },
  {
   "cell_type": "code",
   "execution_count": 54,
   "id": "d9c94e5d",
   "metadata": {},
   "outputs": [
    {
     "data": {
      "text/plain": [
       "{'All': [4.3478260869565215,\n",
       "  19.32367149758454,\n",
       "  52.65700483091788,\n",
       "  17.391304347826086,\n",
       "  1.932367149758454,\n",
       "  0.4830917874396135,\n",
       "  3.864734299516908]}"
      ]
     },
     "execution_count": 54,
     "metadata": {},
     "output_type": "execute_result"
    }
   ],
   "source": [
    "custom_order = [\n",
    "    \"Daily\",\n",
    "    \"4-6 times a week\", \n",
    "    \"2-3 times a week\",\n",
    "    \"Once a week\",\n",
    "    \"2-3 times a month\",\n",
    "    \"Once a month\",\n",
    "    \"Less than once a month\"\n",
    "]\n",
    "\n",
    "freq_results = {\n",
    "    \"All\": df[\"frequency\"]\n",
    "    .value_counts(dropna=True, normalize=True)\n",
    "    .reindex(custom_order)  # Reorder according to custom_order\n",
    "    .tolist()\n",
    "}\n",
    "freq_results = {k: list(map(lambda x: x * 100, v)) for k, v in freq_results.items()}\n",
    "freq_results"
   ]
  },
  {
   "cell_type": "code",
   "execution_count": 55,
   "id": "cedf7cc8",
   "metadata": {},
   "outputs": [
    {
     "data": {
      "image/png": "[encoded data removed]",
      "text/plain": [
       "<Figure size 920x500 with 1 Axes>"
      ]
     },
     "metadata": {},
     "output_type": "display_data"
    }
   ],
   "source": [
    "survey(freq_results, custom_order)\n",
    "plt.title(\"Frequency of visits to the Oxford Ice Rink\")\n",
    "plt.show()"
   ]
  },
  {
   "cell_type": "markdown",
   "id": "5b89113b",
   "metadata": {},
   "source": [
    "## Plot the postcodes where people live"
   ]
  },
  {
   "cell_type": "code",
   "execution_count": 58,
   "id": "743156ae",
   "metadata": {},
   "outputs": [
    {
     "data": {
      "text/html": [
       "<div>\n",
       "<style scoped>\n",
       "    .dataframe tbody tr th:only-of-type {\n",
       "        vertical-align: middle;\n",
       "    }\n",
       "\n",
       "    .dataframe tbody tr th {\n",
       "        vertical-align: top;\n",
       "    }\n",
       "\n",
       "    .dataframe thead th {\n",
       "        text-align: right;\n",
       "    }\n",
       "</style>\n",
       "<table border=\"1\" class=\"dataframe\">\n",
       "  <thead>\n",
       "    <tr style=\"text-align: right;\">\n",
       "      <th></th>\n",
       "      <th>postcode</th>\n",
       "      <th>count</th>\n",
       "    </tr>\n",
       "  </thead>\n",
       "  <tbody>\n",
       "    <tr>\n",
       "      <th>0</th>\n",
       "      <td>OX14</td>\n",
       "      <td>12</td>\n",
       "    </tr>\n",
       "    <tr>\n",
       "      <th>1</th>\n",
       "      <td>OX2</td>\n",
       "      <td>9</td>\n",
       "    </tr>\n",
       "    <tr>\n",
       "      <th>2</th>\n",
       "      <td>OX11</td>\n",
       "      <td>9</td>\n",
       "    </tr>\n",
       "    <tr>\n",
       "      <th>3</th>\n",
       "      <td>OX3</td>\n",
       "      <td>8</td>\n",
       "    </tr>\n",
       "    <tr>\n",
       "      <th>4</th>\n",
       "      <td>OX12</td>\n",
       "      <td>7</td>\n",
       "    </tr>\n",
       "    <tr>\n",
       "      <th>...</th>\n",
       "      <td>...</td>\n",
       "      <td>...</td>\n",
       "    </tr>\n",
       "    <tr>\n",
       "      <th>82</th>\n",
       "      <td>RG22</td>\n",
       "      <td>1</td>\n",
       "    </tr>\n",
       "    <tr>\n",
       "      <th>83</th>\n",
       "      <td>Ox9</td>\n",
       "      <td>1</td>\n",
       "    </tr>\n",
       "    <tr>\n",
       "      <th>84</th>\n",
       "      <td>RG8</td>\n",
       "      <td>1</td>\n",
       "    </tr>\n",
       "    <tr>\n",
       "      <th>85</th>\n",
       "      <td>Cv32</td>\n",
       "      <td>1</td>\n",
       "    </tr>\n",
       "    <tr>\n",
       "      <th>86</th>\n",
       "      <td>MK18</td>\n",
       "      <td>1</td>\n",
       "    </tr>\n",
       "  </tbody>\n",
       "</table>\n",
       "<p>87 rows × 2 columns</p>\n",
       "</div>"
      ],
      "text/plain": [
       "   postcode  count\n",
       "0      OX14     12\n",
       "1       OX2      9\n",
       "2      OX11      9\n",
       "3       OX3      8\n",
       "4      OX12      7\n",
       "..      ...    ...\n",
       "82     RG22      1\n",
       "83      Ox9      1\n",
       "84      RG8      1\n",
       "85    Cv32       1\n",
       "86     MK18      1\n",
       "\n",
       "[87 rows x 2 columns]"
      ]
     },
     "execution_count": 58,
     "metadata": {},
     "output_type": "execute_result"
    }
   ],
   "source": [
    "df['postcode'].value_counts()\n",
    "\n",
    "# Make a table of the postcodes\n",
    "postcode_counts = df['postcode'].value_counts().reset_index()\n",
    "postcode_counts.columns = ['postcode', 'count']\n",
    "\n",
    "postcode_counts"
   ]
  },
  {
   "cell_type": "code",
   "execution_count": 59,
   "id": "692f76fb",
   "metadata": {},
   "outputs": [],
   "source": [
    "import pgeocode\n",
    "\n",
    "nomi = pgeocode.Nominatim('gb')\n",
    "\n",
    "def get_lat_long(postcode):\n",
    "    \"\"\"Get latitude and longitude for a given postcode.\"\"\"\n",
    "    location = nomi.query_postal_code(postcode)\n",
    "    if location is not None:\n",
    "        return location.latitude, location.longitude\n",
    "    else:\n",
    "        return None, None"
   ]
  },
  {
   "cell_type": "code",
   "execution_count": 60,
   "id": "06bc14e8",
   "metadata": {},
   "outputs": [],
   "source": [
    "postcode_counts['latitude'], postcode_counts['longitude'] = zip(*postcode_counts['postcode'].apply(get_lat_long))"
   ]
  },
  {
   "cell_type": "code",
   "execution_count": 61,
   "id": "e563dfaa",
   "metadata": {},
   "outputs": [
    {
     "data": {
      "text/html": [
       "<div>\n",
       "<style scoped>\n",
       "    .dataframe tbody tr th:only-of-type {\n",
       "        vertical-align: middle;\n",
       "    }\n",
       "\n",
       "    .dataframe tbody tr th {\n",
       "        vertical-align: top;\n",
       "    }\n",
       "\n",
       "    .dataframe thead th {\n",
       "        text-align: right;\n",
       "    }\n",
       "</style>\n",
       "<table border=\"1\" class=\"dataframe\">\n",
       "  <thead>\n",
       "    <tr style=\"text-align: right;\">\n",
       "      <th></th>\n",
       "      <th>postcode</th>\n",
       "      <th>count</th>\n",
       "      <th>latitude</th>\n",
       "      <th>longitude</th>\n",
       "    </tr>\n",
       "  </thead>\n",
       "  <tbody>\n",
       "    <tr>\n",
       "      <th>0</th>\n",
       "      <td>OX14</td>\n",
       "      <td>12</td>\n",
       "      <td>51.648575</td>\n",
       "      <td>-1.255983</td>\n",
       "    </tr>\n",
       "    <tr>\n",
       "      <th>1</th>\n",
       "      <td>OX2</td>\n",
       "      <td>9</td>\n",
       "      <td>51.762770</td>\n",
       "      <td>-1.287940</td>\n",
       "    </tr>\n",
       "    <tr>\n",
       "      <th>2</th>\n",
       "      <td>OX11</td>\n",
       "      <td>9</td>\n",
       "      <td>51.587217</td>\n",
       "      <td>-1.235517</td>\n",
       "    </tr>\n",
       "    <tr>\n",
       "      <th>3</th>\n",
       "      <td>OX3</td>\n",
       "      <td>8</td>\n",
       "      <td>51.780400</td>\n",
       "      <td>-1.217167</td>\n",
       "    </tr>\n",
       "    <tr>\n",
       "      <th>4</th>\n",
       "      <td>OX12</td>\n",
       "      <td>7</td>\n",
       "      <td>51.593492</td>\n",
       "      <td>-1.430721</td>\n",
       "    </tr>\n",
       "    <tr>\n",
       "      <th>...</th>\n",
       "      <td>...</td>\n",
       "      <td>...</td>\n",
       "      <td>...</td>\n",
       "      <td>...</td>\n",
       "    </tr>\n",
       "    <tr>\n",
       "      <th>82</th>\n",
       "      <td>RG22</td>\n",
       "      <td>1</td>\n",
       "      <td>51.248700</td>\n",
       "      <td>-1.124400</td>\n",
       "    </tr>\n",
       "    <tr>\n",
       "      <th>83</th>\n",
       "      <td>Ox9</td>\n",
       "      <td>1</td>\n",
       "      <td>51.726043</td>\n",
       "      <td>-0.981030</td>\n",
       "    </tr>\n",
       "    <tr>\n",
       "      <th>84</th>\n",
       "      <td>RG8</td>\n",
       "      <td>1</td>\n",
       "      <td>51.505683</td>\n",
       "      <td>-1.110456</td>\n",
       "    </tr>\n",
       "    <tr>\n",
       "      <th>85</th>\n",
       "      <td>Cv32</td>\n",
       "      <td>1</td>\n",
       "      <td>52.303333</td>\n",
       "      <td>-1.523167</td>\n",
       "    </tr>\n",
       "    <tr>\n",
       "      <th>86</th>\n",
       "      <td>MK18</td>\n",
       "      <td>1</td>\n",
       "      <td>51.968652</td>\n",
       "      <td>-0.965221</td>\n",
       "    </tr>\n",
       "  </tbody>\n",
       "</table>\n",
       "<p>87 rows × 4 columns</p>\n",
       "</div>"
      ],
      "text/plain": [
       "   postcode  count   latitude  longitude\n",
       "0      OX14     12  51.648575  -1.255983\n",
       "1       OX2      9  51.762770  -1.287940\n",
       "2      OX11      9  51.587217  -1.235517\n",
       "3       OX3      8  51.780400  -1.217167\n",
       "4      OX12      7  51.593492  -1.430721\n",
       "..      ...    ...        ...        ...\n",
       "82     RG22      1  51.248700  -1.124400\n",
       "83      Ox9      1  51.726043  -0.981030\n",
       "84      RG8      1  51.505683  -1.110456\n",
       "85    Cv32       1  52.303333  -1.523167\n",
       "86     MK18      1  51.968652  -0.965221\n",
       "\n",
       "[87 rows x 4 columns]"
      ]
     },
     "execution_count": 61,
     "metadata": {},
     "output_type": "execute_result"
    }
   ],
   "source": [
    "postcode_counts"
   ]
  },
  {
   "cell_type": "code",
   "execution_count": 89,
   "id": "8be49901-b18a-4dbd-b3c5-65508517013f",
   "metadata": {},
   "outputs": [
    {
     "data": {
      "application/vnd.plotly.v1+json": {
       "config": {
        "plotlyServerURL": "https://plot.ly"
       },
       "data": [
        {
         "hovertemplate": "count=%{marker.size}<br>latitude=%{lat}<br>longitude=%{lon}<extra></extra>",
         "lat": {
          "bdata": "aQBvgQTTSUBaL4ZyouFJQO9/beopy0lAM+auJeTjSUAUZPGI98tJQL9lTpfF3ElAWi+GcqLhSUCjkjoBTeRJQGFNIf7u3ElAV/CJI73OSUCKjuTyH+xJQKcYXrM9vUlAaQBvgQTTSUBqvHSTGORJQHuDL0ym4klAKFX8sq70SUCBlUOLbMdJQBRk8Yj3y0lATKVQtDbWSUAzMzMzM/NJQBRk8Yj3y0lAMzMzMzPzSUD2ve9TeNlJQDMzMzMz80lAGCZTBaPcSUCKjuTyH+xJQEylULQ21klAv2VOl8XcSUBaL4ZyouFJQPr4R55pnUlArDsQZZDSSUAYJlMFo9xJQPJBz2bVn0lAr89I7wTPSUAAAAAAAAD4fzbNO07RCUpA4MtmJNMESkDkFB3J5QdKQHe+nxov4UlAWi+GcqLhSUCz6nO1FcNJQCqpE9BEuElAYPMLEGYESkBpAG+BBNNJQGDzCxBmBEpAGXPXEvKxSUDPZtXnastJQNDYhKH7LUpARGZBO7rASUAAAAAAAAD4fzPmriXk40lATKVQtDbWSUBEZkE7usBJQOauJeSDbElAAAAAAAAA+H//If32dahJQAva0SUJp0lAMzMzMzPzSUBbjJRAXZ9JQGq8dJMY5ElAe4MvTKbiSUADb0IHAZ5JQAAAAAAAAPh/KFX8sq70SUAzMzMzM/NJQGq8dJMY5ElAFGTxiPfLSUCamZmZmaFJQK/PSO8Ez0lAKFX8sq70SUCzAkNWt8JJQLoB5Ee7x0lA739t6inLSUAoVfyyrvRJQDMzMzMz80lA+u3rwDl7SUBvEoPAyrlJQGq8dJMY5ElAd76fGi/hSUDn+6nx0qVJQDbqIRrd6UlAAAAAAAAA+H/yQc9m1Z9JQGFNIf7u3ElARGZBO7rASUAHOm2g0yZKQPhl2cX8+0lA",
          "dtype": "f8"
         },
         "legendgroup": "",
         "lon": {
          "bdata": "wc3P+oEY9L8lXTP5Zpv0v7Xwzx+txPO/rdUxwYN587/l9U2HO+T2v2ZmZmZmZvS/JV0z+Wab9L+Hp1fKMsT3v/GzOPCZZO+/wPZ/wSEH8r++wRcmUwX0v7RFEFEtbe6/wc3P+oEY9L/caABvgYT3vyigibDh6fm/K7LQUelW+L/HKTqSy3/8v+X1TYc75Pa/R03OY6ey9b9MpgpGJXXyv+X1TYc75Pa/TKYKRiV18r9p2lzBExHyv0ymCkYldfK/16NwPQqX87++wRcmUwX0v0dNzmOnsvW/ZmZmZmZm9L8lXTP5Zpv0v+PorFMmt+C/ISdDZ67i+L/Xo3A9Cpfzv1r1udqK/fG/OLnI6Va4+78AAAAAAAD4f7hL3r/3evS/Z6vseMC39r/2KFyPwnX1v6kT0ETYEPK/JV0z+Wab9L/zH9JvX4cEwLIubqMBvO2/iIMtH/I/8r/Bzc/6gRj0v4iDLR/yP/K/LGUZ4lgX9L/f4AuTqYL7v1V6gAGXGvi/qVxsC23E8b8AAAAAAAD4f63VMcGDefO/R03OY6ey9b+pXGwLbcTxv5SHhVrTfPK/AAAAAAAA+H/OGVHaG4zyv0Wwl5M9b+6/TKYKRiV18r92KvNpKEj1v9xoAG+BhPe/KKCJsOHp+b97Y9fL3p33vwAAAAAAAPh/K7LQUelW+L9MpgpGJXXyv9xoAG+BhPe/5fVNhzvk9r+itDf4wmTxvzi5yOlWuPu/K7LQUelW+L8knBa86Cvkv20g3+Iiee2/tfDPH63E878rstBR6Vb4v0ymCkYldfK/rSe2QWtB9b9E+u3rwDnwv9xoAG+BhPe/qRPQRNgQ8r9YqDXNO07pv+LkfoeigAHAAAAAAAAA+H9a9bnaiv3xv/GzOPCZZO+/qVxsC23E8b/4DLsC5F74vyrqbpgX4+6/",
          "dtype": "f8"
         },
         "marker": {
          "color": "#636efa",
          "opacity": 0.8,
          "size": {
           "bdata": "DAkJCAcHBgYEBAQEBAQEAwICAgICAgICAgICAgICAgIBAQEBAQEBAQEBAQEBAQEBAQEBAQEBAQEBAQEBAQEBAQEBAQEBAQEBAQEBAQEBAQEBAQEBAQEB",
           "dtype": "i1"
          },
          "sizemode": "area",
          "sizeref": 0.03
         },
         "mode": "markers",
         "name": "",
         "showlegend": false,
         "subplot": "map",
         "type": "scattermap"
        },
        {
         "lat": [
          51.7488
         ],
         "lon": [
          -1.265
         ],
         "marker": {
          "opacity": 0.8,
          "size": 15,
          "symbol": "star"
         },
         "mode": "markers",
         "type": "scattermap"
        }
       ],
       "layout": {
        "coloraxis": {
         "cmax": 0.9,
         "cmin": 0,
         "colorbar": {
          "tickformat": ".0%",
          "title": {
           "text": "Coverage"
          }
         }
        },
        "height": 1200,
        "legend": {
         "itemsizing": "constant",
         "tracegroupgap": 0
        },
        "map": {
         "center": {
          "lat": 51.67446152681876,
          "lon": -1.2912008220542335
         },
         "domain": {
          "x": [
           0,
           1
          ],
          "y": [
           0,
           1
          ]
         },
         "zoom": 8
        },
        "mapbox": {
         "center": {
          "lat": 51.67446152681876,
          "lon": -1.2912008220542335
         },
         "style": "open-street-map",
         "zoom": 8
        },
        "margin": {
         "b": 0,
         "l": 0,
         "r": 0,
         "t": 0
        },
        "template": {
         "data": {
          "bar": [
           {
            "error_x": {
             "color": "#2a3f5f"
            },
            "error_y": {
             "color": "#2a3f5f"
            },
            "marker": {
             "line": {
              "color": "#E5ECF6",
              "width": 0.5
             },
             "pattern": {
              "fillmode": "overlay",
              "size": 10,
              "solidity": 0.2
             }
            },
            "type": "bar"
           }
          ],
          "barpolar": [
           {
            "marker": {
             "line": {
              "color": "#E5ECF6",
              "width": 0.5
             },
             "pattern": {
              "fillmode": "overlay",
              "size": 10,
              "solidity": 0.2
             }
            },
            "type": "barpolar"
           }
          ],
          "carpet": [
           {
            "aaxis": {
             "endlinecolor": "#2a3f5f",
             "gridcolor": "white",
             "linecolor": "white",
             "minorgridcolor": "white",
             "startlinecolor": "#2a3f5f"
            },
            "baxis": {
             "endlinecolor": "#2a3f5f",
             "gridcolor": "white",
             "linecolor": "white",
             "minorgridcolor": "white",
             "startlinecolor": "#2a3f5f"
            },
            "type": "carpet"
           }
          ],
          "choropleth": [
           {
            "colorbar": {
             "outlinewidth": 0,
             "ticks": ""
            },
            "type": "choropleth"
           }
          ],
          "contour": [
           {
            "colorbar": {
             "outlinewidth": 0,
             "ticks": ""
            },
            "colorscale": [
             [
              0,
              "#0d0887"
             ],
             [
              0.1111111111111111,
              "#46039f"
             ],
             [
              0.2222222222222222,
              "#7201a8"
             ],
             [
              0.3333333333333333,
              "#9c179e"
             ],
             [
              0.4444444444444444,
              "#bd3786"
             ],
             [
              0.5555555555555556,
              "#d8576b"
             ],
             [
              0.6666666666666666,
              "#ed7953"
             ],
             [
              0.7777777777777778,
              "#fb9f3a"
             ],
             [
              0.8888888888888888,
              "#fdca26"
             ],
             [
              1,
              "#f0f921"
             ]
            ],
            "type": "contour"
           }
          ],
          "contourcarpet": [
           {
            "colorbar": {
             "outlinewidth": 0,
             "ticks": ""
            },
            "type": "contourcarpet"
           }
          ],
          "heatmap": [
           {
            "colorbar": {
             "outlinewidth": 0,
             "ticks": ""
            },
            "colorscale": [
             [
              0,
              "#0d0887"
             ],
             [
              0.1111111111111111,
              "#46039f"
             ],
             [
              0.2222222222222222,
              "#7201a8"
             ],
             [
              0.3333333333333333,
              "#9c179e"
             ],
             [
              0.4444444444444444,
              "#bd3786"
             ],
             [
              0.5555555555555556,
              "#d8576b"
             ],
             [
              0.6666666666666666,
              "#ed7953"
             ],
             [
              0.7777777777777778,
              "#fb9f3a"
             ],
             [
              0.8888888888888888,
              "#fdca26"
             ],
             [
              1,
              "#f0f921"
             ]
            ],
            "type": "heatmap"
           }
          ],
          "histogram": [
           {
            "marker": {
             "pattern": {
              "fillmode": "overlay",
              "size": 10,
              "solidity": 0.2
             }
            },
            "type": "histogram"
           }
          ],
          "histogram2d": [
           {
            "colorbar": {
             "outlinewidth": 0,
             "ticks": ""
            },
            "colorscale": [
             [
              0,
              "#0d0887"
             ],
             [
              0.1111111111111111,
              "#46039f"
             ],
             [
              0.2222222222222222,
              "#7201a8"
             ],
             [
              0.3333333333333333,
              "#9c179e"
             ],
             [
              0.4444444444444444,
              "#bd3786"
             ],
             [
              0.5555555555555556,
              "#d8576b"
             ],
             [
              0.6666666666666666,
              "#ed7953"
             ],
             [
              0.7777777777777778,
              "#fb9f3a"
             ],
             [
              0.8888888888888888,
              "#fdca26"
             ],
             [
              1,
              "#f0f921"
             ]
            ],
            "type": "histogram2d"
           }
          ],
          "histogram2dcontour": [
           {
            "colorbar": {
             "outlinewidth": 0,
             "ticks": ""
            },
            "colorscale": [
             [
              0,
              "#0d0887"
             ],
             [
              0.1111111111111111,
              "#46039f"
             ],
             [
              0.2222222222222222,
              "#7201a8"
             ],
             [
              0.3333333333333333,
              "#9c179e"
             ],
             [
              0.4444444444444444,
              "#bd3786"
             ],
             [
              0.5555555555555556,
              "#d8576b"
             ],
             [
              0.6666666666666666,
              "#ed7953"
             ],
             [
              0.7777777777777778,
              "#fb9f3a"
             ],
             [
              0.8888888888888888,
              "#fdca26"
             ],
             [
              1,
              "#f0f921"
             ]
            ],
            "type": "histogram2dcontour"
           }
          ],
          "mesh3d": [
           {
            "colorbar": {
             "outlinewidth": 0,
             "ticks": ""
            },
            "type": "mesh3d"
           }
          ],
          "parcoords": [
           {
            "line": {
             "colorbar": {
              "outlinewidth": 0,
              "ticks": ""
             }
            },
            "type": "parcoords"
           }
          ],
          "pie": [
           {
            "automargin": true,
            "type": "pie"
           }
          ],
          "scatter": [
           {
            "fillpattern": {
             "fillmode": "overlay",
             "size": 10,
             "solidity": 0.2
            },
            "type": "scatter"
           }
          ],
          "scatter3d": [
           {
            "line": {
             "colorbar": {
              "outlinewidth": 0,
              "ticks": ""
             }
            },
            "marker": {
             "colorbar": {
              "outlinewidth": 0,
              "ticks": ""
             }
            },
            "type": "scatter3d"
           }
          ],
          "scattercarpet": [
           {
            "marker": {
             "colorbar": {
              "outlinewidth": 0,
              "ticks": ""
             }
            },
            "type": "scattercarpet"
           }
          ],
          "scattergeo": [
           {
            "marker": {
             "colorbar": {
              "outlinewidth": 0,
              "ticks": ""
             }
            },
            "type": "scattergeo"
           }
          ],
          "scattergl": [
           {
            "marker": {
             "colorbar": {
              "outlinewidth": 0,
              "ticks": ""
             }
            },
            "type": "scattergl"
           }
          ],
          "scattermap": [
           {
            "marker": {
             "colorbar": {
              "outlinewidth": 0,
              "ticks": ""
             }
            },
            "type": "scattermap"
           }
          ],
          "scattermapbox": [
           {
            "marker": {
             "colorbar": {
              "outlinewidth": 0,
              "ticks": ""
             }
            },
            "type": "scattermapbox"
           }
          ],
          "scatterpolar": [
           {
            "marker": {
             "colorbar": {
              "outlinewidth": 0,
              "ticks": ""
             }
            },
            "type": "scatterpolar"
           }
          ],
          "scatterpolargl": [
           {
            "marker": {
             "colorbar": {
              "outlinewidth": 0,
              "ticks": ""
             }
            },
            "type": "scatterpolargl"
           }
          ],
          "scatterternary": [
           {
            "marker": {
             "colorbar": {
              "outlinewidth": 0,
              "ticks": ""
             }
            },
            "type": "scatterternary"
           }
          ],
          "surface": [
           {
            "colorbar": {
             "outlinewidth": 0,
             "ticks": ""
            },
            "colorscale": [
             [
              0,
              "#0d0887"
             ],
             [
              0.1111111111111111,
              "#46039f"
             ],
             [
              0.2222222222222222,
              "#7201a8"
             ],
             [
              0.3333333333333333,
              "#9c179e"
             ],
             [
              0.4444444444444444,
              "#bd3786"
             ],
             [
              0.5555555555555556,
              "#d8576b"
             ],
             [
              0.6666666666666666,
              "#ed7953"
             ],
             [
              0.7777777777777778,
              "#fb9f3a"
             ],
             [
              0.8888888888888888,
              "#fdca26"
             ],
             [
              1,
              "#f0f921"
             ]
            ],
            "type": "surface"
           }
          ],
          "table": [
           {
            "cells": {
             "fill": {
              "color": "#EBF0F8"
             },
             "line": {
              "color": "white"
             }
            },
            "header": {
             "fill": {
              "color": "#C8D4E3"
             },
             "line": {
              "color": "white"
             }
            },
            "type": "table"
           }
          ]
         },
         "layout": {
          "annotationdefaults": {
           "arrowcolor": "#2a3f5f",
           "arrowhead": 0,
           "arrowwidth": 1
          },
          "autotypenumbers": "strict",
          "coloraxis": {
           "colorbar": {
            "outlinewidth": 0,
            "ticks": ""
           }
          },
          "colorscale": {
           "diverging": [
            [
             0,
             "#8e0152"
            ],
            [
             0.1,
             "#c51b7d"
            ],
            [
             0.2,
             "#de77ae"
            ],
            [
             0.3,
             "#f1b6da"
            ],
            [
             0.4,
             "#fde0ef"
            ],
            [
             0.5,
             "#f7f7f7"
            ],
            [
             0.6,
             "#e6f5d0"
            ],
            [
             0.7,
             "#b8e186"
            ],
            [
             0.8,
             "#7fbc41"
            ],
            [
             0.9,
             "#4d9221"
            ],
            [
             1,
             "#276419"
            ]
           ],
           "sequential": [
            [
             0,
             "#0d0887"
            ],
            [
             0.1111111111111111,
             "#46039f"
            ],
            [
             0.2222222222222222,
             "#7201a8"
            ],
            [
             0.3333333333333333,
             "#9c179e"
            ],
            [
             0.4444444444444444,
             "#bd3786"
            ],
            [
             0.5555555555555556,
             "#d8576b"
            ],
            [
             0.6666666666666666,
             "#ed7953"
            ],
            [
             0.7777777777777778,
             "#fb9f3a"
            ],
            [
             0.8888888888888888,
             "#fdca26"
            ],
            [
             1,
             "#f0f921"
            ]
           ],
           "sequentialminus": [
            [
             0,
             "#0d0887"
            ],
            [
             0.1111111111111111,
             "#46039f"
            ],
            [
             0.2222222222222222,
             "#7201a8"
            ],
            [
             0.3333333333333333,
             "#9c179e"
            ],
            [
             0.4444444444444444,
             "#bd3786"
            ],
            [
             0.5555555555555556,
             "#d8576b"
            ],
            [
             0.6666666666666666,
             "#ed7953"
            ],
            [
             0.7777777777777778,
             "#fb9f3a"
            ],
            [
             0.8888888888888888,
             "#fdca26"
            ],
            [
             1,
             "#f0f921"
            ]
           ]
          },
          "colorway": [
           "#636efa",
           "#EF553B",
           "#00cc96",
           "#ab63fa",
           "#FFA15A",
           "#19d3f3",
           "#FF6692",
           "#B6E880",
           "#FF97FF",
           "#FECB52"
          ],
          "font": {
           "color": "#2a3f5f"
          },
          "geo": {
           "bgcolor": "white",
           "lakecolor": "white",
           "landcolor": "#E5ECF6",
           "showlakes": true,
           "showland": true,
           "subunitcolor": "white"
          },
          "hoverlabel": {
           "align": "left"
          },
          "hovermode": "closest",
          "mapbox": {
           "style": "light"
          },
          "paper_bgcolor": "white",
          "plot_bgcolor": "#E5ECF6",
          "polar": {
           "angularaxis": {
            "gridcolor": "white",
            "linecolor": "white",
            "ticks": ""
           },
           "bgcolor": "#E5ECF6",
           "radialaxis": {
            "gridcolor": "white",
            "linecolor": "white",
            "ticks": ""
           }
          },
          "scene": {
           "xaxis": {
            "backgroundcolor": "#E5ECF6",
            "gridcolor": "white",
            "gridwidth": 2,
            "linecolor": "white",
            "showbackground": true,
            "ticks": "",
            "zerolinecolor": "white"
           },
           "yaxis": {
            "backgroundcolor": "#E5ECF6",
            "gridcolor": "white",
            "gridwidth": 2,
            "linecolor": "white",
            "showbackground": true,
            "ticks": "",
            "zerolinecolor": "white"
           },
           "zaxis": {
            "backgroundcolor": "#E5ECF6",
            "gridcolor": "white",
            "gridwidth": 2,
            "linecolor": "white",
            "showbackground": true,
            "ticks": "",
            "zerolinecolor": "white"
           }
          },
          "shapedefaults": {
           "line": {
            "color": "#2a3f5f"
           }
          },
          "ternary": {
           "aaxis": {
            "gridcolor": "white",
            "linecolor": "white",
            "ticks": ""
           },
           "baxis": {
            "gridcolor": "white",
            "linecolor": "white",
            "ticks": ""
           },
           "bgcolor": "#E5ECF6",
           "caxis": {
            "gridcolor": "white",
            "linecolor": "white",
            "ticks": ""
           }
          },
          "title": {
           "x": 0.05
          },
          "xaxis": {
           "automargin": true,
           "gridcolor": "white",
           "linecolor": "white",
           "ticks": "",
           "title": {
            "standoff": 15
           },
           "zerolinecolor": "white",
           "zerolinewidth": 2
          },
          "yaxis": {
           "automargin": true,
           "gridcolor": "white",
           "linecolor": "white",
           "ticks": "",
           "title": {
            "standoff": 15
           },
           "zerolinecolor": "white",
           "zerolinewidth": 2
          }
         }
        },
        "width": 1400
       }
      }
     },
     "metadata": {},
     "output_type": "display_data"
    }
   ],
   "source": [
    "import plotly.express as px\n",
    "\n",
    "ICE_RINK = (51.7488, -1.2650)\n",
    "\n",
    "fig = px.scatter_map(\n",
    "    postcode_counts,\n",
    "    lat=\"latitude\",\n",
    "    lon=\"longitude\",\n",
    "    size=\"count\",\n",
    "    opacity=0.8,\n",
    "    zoom=8,\n",
    "    height=1200,\n",
    "    width=1400,\n",
    ")\n",
    "fig.update_layout(mapbox_style=\"open-street-map\")\n",
    "fig.update_layout(margin={\"r\": 0, \"t\": 0, \"l\": 0, \"b\": 0})\n",
    "fig.update_layout(\n",
    "    coloraxis_colorbar=dict(title=\"Coverage\", tickformat=\".0%\"),\n",
    ")\n",
    "fig.update_layout(\n",
    "    coloraxis=dict(cmin=0.0, cmax=0.9),\n",
    ")\n",
    "fig.add_scattermap(\n",
    "    lat=[ICE_RINK[0]],\n",
    "    lon=[ICE_RINK[1]],\n",
    "    mode='markers',\n",
    "    marker=dict(\n",
    "        size=15,\n",
    "        opacity=0.8,\n",
    "        symbol='star',\n",
    "    ),\n",
    ")\n",
    "\n",
    "\n",
    "fig.show()"
   ]
  },
  {
   "cell_type": "code",
   "execution_count": 71,
   "id": "d353da0e",
   "metadata": {},
   "outputs": [
    {
     "data": {
      "text/html": [
       "<div>\n",
       "<style scoped>\n",
       "    .dataframe tbody tr th:only-of-type {\n",
       "        vertical-align: middle;\n",
       "    }\n",
       "\n",
       "    .dataframe tbody tr th {\n",
       "        vertical-align: top;\n",
       "    }\n",
       "\n",
       "    .dataframe thead th {\n",
       "        text-align: right;\n",
       "    }\n",
       "</style>\n",
       "<table border=\"1\" class=\"dataframe\">\n",
       "  <thead>\n",
       "    <tr style=\"text-align: right;\">\n",
       "      <th></th>\n",
       "      <th>postcode</th>\n",
       "      <th>count</th>\n",
       "      <th>latitude</th>\n",
       "      <th>longitude</th>\n",
       "    </tr>\n",
       "  </thead>\n",
       "  <tbody>\n",
       "    <tr>\n",
       "      <th>0</th>\n",
       "      <td>OX14</td>\n",
       "      <td>12</td>\n",
       "      <td>51.648575</td>\n",
       "      <td>-1.255983</td>\n",
       "    </tr>\n",
       "    <tr>\n",
       "      <th>1</th>\n",
       "      <td>OX2</td>\n",
       "      <td>9</td>\n",
       "      <td>51.762770</td>\n",
       "      <td>-1.287940</td>\n",
       "    </tr>\n",
       "    <tr>\n",
       "      <th>2</th>\n",
       "      <td>OX11</td>\n",
       "      <td>9</td>\n",
       "      <td>51.587217</td>\n",
       "      <td>-1.235517</td>\n",
       "    </tr>\n",
       "    <tr>\n",
       "      <th>3</th>\n",
       "      <td>OX3</td>\n",
       "      <td>8</td>\n",
       "      <td>51.780400</td>\n",
       "      <td>-1.217167</td>\n",
       "    </tr>\n",
       "    <tr>\n",
       "      <th>4</th>\n",
       "      <td>OX12</td>\n",
       "      <td>7</td>\n",
       "      <td>51.593492</td>\n",
       "      <td>-1.430721</td>\n",
       "    </tr>\n",
       "  </tbody>\n",
       "</table>\n",
       "</div>"
      ],
      "text/plain": [
       "  postcode  count   latitude  longitude\n",
       "0     OX14     12  51.648575  -1.255983\n",
       "1      OX2      9  51.762770  -1.287940\n",
       "2     OX11      9  51.587217  -1.235517\n",
       "3      OX3      8  51.780400  -1.217167\n",
       "4     OX12      7  51.593492  -1.430721"
      ]
     },
     "execution_count": 71,
     "metadata": {},
     "output_type": "execute_result"
    }
   ],
   "source": [
    "postcode_counts.head()"
   ]
  },
  {
   "cell_type": "code",
   "execution_count": 56,
   "id": "6cf00554",
   "metadata": {},
   "outputs": [
    {
     "data": {
      "text/plain": [
       "postal_code                                                  OX4\n",
       "country_code                                                  GB\n",
       "place_name        Littlemore, Iffley, Cowley, Sandford-on-Thames\n",
       "state_name                                               England\n",
       "state_code                                                   ENG\n",
       "county_name                                          Oxfordshire\n",
       "county_code                                             11609045\n",
       "community_name                                              None\n",
       "community_code                                              None\n",
       "latitude                                               51.723725\n",
       "longitude                                              -1.224375\n",
       "accuracy                                                     4.0\n",
       "Name: 0, dtype: object"
      ]
     },
     "execution_count": 56,
     "metadata": {},
     "output_type": "execute_result"
    }
   ],
   "source": [
    "import pgeocode\n",
    "\n",
    "nomi = pgeocode.Nominatim('gb')\n",
    "nomi.query_postal_code(\"ox4\")"
   ]
  }
 ],
 "metadata": {
  "kernelspec": {
   "display_name": "Python 3",
   "language": "python",
   "name": "python3"
  },
  "language_info": {
   "codemirror_mode": {
    "name": "ipython",
    "version": 3
   },
   "file_extension": ".py",
   "mimetype": "text/x-python",
   "name": "python",
   "nbconvert_exporter": "python",
   "pygments_lexer": "ipython3",
   "version": "3.12.1"
  }
 },
 "nbformat": 4,
 "nbformat_minor": 5
}
